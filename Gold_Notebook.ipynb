{
 "cells": [
  {
   "cell_type": "code",
   "execution_count": 0,
   "metadata": {
    "application/vnd.databricks.v1+cell": {
     "cellMetadata": {
      "byteLimit": 2048000,
      "rowLimit": 10000
     },
     "inputWidgets": {},
     "nuid": "fd114d67-55b2-4ece-8ca5-526b5d8d32f6",
     "showTitle": false,
     "tableResultSettingsMap": {},
     "title": ""
    }
   },
   "outputs": [],
   "source": [
    "# tiers = [\"bronze\",\"silver\",\"gold\"]\n",
    "# adl_paths = {tier : f'abfss://{tier}@myfirststorageaccount271.dfs.core.windows.net/' for tier in tiers}\n",
    "\n",
    "# bronze_adls = adl_paths['bronze']\n",
    "# silver_adls = adl_paths['silver']\n",
    "# gold_adls = adl_paths['gold']\n",
    "\n",
    "# dbutils.fs.ls(bronze_adls)\n",
    "# dbutils.fs.ls(silver_adls)\n",
    "# dbutils.fs.ls(gold_adls)\n",
    "# silver_data_path = f\"{silver_adls}earthquake_events_silver/\"\n",
    "\n",
    "\n",
    "# import requests\n",
    "# import json\n",
    "# from datetime import datetime\n",
    "# from datetime import date, timedelta\n",
    "\n",
    "# start_date = date.today() - timedelta(1)\n",
    "# end_date = date.today()"
   ]
  },
  {
   "cell_type": "markdown",
   "metadata": {
    "application/vnd.databricks.v1+cell": {
     "cellMetadata": {},
     "inputWidgets": {},
     "nuid": "329893b7-ed7a-4e96-bfe5-1e47b266d863",
     "showTitle": false,
     "tableResultSettingsMap": {},
     "title": ""
    }
   },
   "source": [
    "#### Fetch data from Silver and Bronze Tasks"
   ]
  },
  {
   "cell_type": "code",
   "execution_count": 0,
   "metadata": {
    "application/vnd.databricks.v1+cell": {
     "cellMetadata": {},
     "inputWidgets": {},
     "nuid": "e61ba7bd-357b-4141-9078-5c2c1fed1425",
     "showTitle": false,
     "tableResultSettingsMap": {},
     "title": ""
    }
   },
   "outputs": [],
   "source": [
    "bronze_output = dbutils.jobs.taskValues.get(taskKey='Bronze',key='bronze_output')\n",
    "silver_output = dbutils.jobs.taskValues.get(taskKey='Silver',key='silver_output')\n",
    "\n",
    "start_date = bronze_output['start_date']\n",
    "end_date = bronze_output['end_date']\n",
    "\n",
    "bronze_adls = bronze_output['bronze_adls']\n",
    "silver_adls = bronze_output['silver_adls']\n",
    "gold_adls = bronze_output['gold_adls']\n",
    "\n",
    "print(f'Start Date {start_date}, End Date {end_date}')"
   ]
  },
  {
   "cell_type": "code",
   "execution_count": 0,
   "metadata": {
    "application/vnd.databricks.v1+cell": {
     "cellMetadata": {
      "byteLimit": 2048000,
      "rowLimit": 10000
     },
     "inputWidgets": {},
     "nuid": "7149607a-199f-417d-90c0-51be3fd104d5",
     "showTitle": false,
     "tableResultSettingsMap": {},
     "title": ""
    }
   },
   "outputs": [],
   "source": [
    "from pyspark.sql.functions import when,col, udf\n",
    "from pyspark.sql.types import StringType\n",
    "\n",
    "import reverse_geocoder as rg\n",
    "from datetime import date, timedelta"
   ]
  },
  {
   "cell_type": "code",
   "execution_count": 0,
   "metadata": {
    "application/vnd.databricks.v1+cell": {
     "cellMetadata": {
      "byteLimit": 2048000,
      "rowLimit": 10000
     },
     "inputWidgets": {},
     "nuid": "9bb49311-e3eb-4025-9734-e19f6bf3649a",
     "showTitle": false,
     "tableResultSettingsMap": {},
     "title": ""
    }
   },
   "outputs": [],
   "source": [
    "df = spark.read.parquet(silver_output).filter(col('time') > start_date)"
   ]
  },
  {
   "cell_type": "markdown",
   "metadata": {
    "application/vnd.databricks.v1+cell": {
     "cellMetadata": {},
     "inputWidgets": {},
     "nuid": "1ded25b9-025b-470e-aa85-b42c45d82c33",
     "showTitle": false,
     "tableResultSettingsMap": {},
     "title": ""
    }
   },
   "source": [
    "\n",
    "#### Add country code given {long,lat}"
   ]
  },
  {
   "cell_type": "code",
   "execution_count": 0,
   "metadata": {
    "application/vnd.databricks.v1+cell": {
     "cellMetadata": {
      "byteLimit": 2048000,
      "rowLimit": 10000
     },
     "inputWidgets": {},
     "nuid": "4ac68f92-2717-46b0-a56c-d23805bc972f",
     "showTitle": false,
     "tableResultSettingsMap": {},
     "title": ""
    }
   },
   "outputs": [],
   "source": [
    "df = df.limit(1000) # shorten for testing\n",
    "\n",
    "def get_country_code(lat,lon):\n",
    "    try : \n",
    "        coordinates = (float(lat),float(lon))\n",
    "        result = rg.search(coordinates)[0].get('cc')\n",
    "        print(result)\n",
    "        print(f\"Processsed coordinates: ,{coordinates}, result: {result}\")\n",
    "        return result\n",
    "    except Exception as e :\n",
    "        print(f'Error converting coordinates to country code : {e}')\n",
    "              "
   ]
  },
  {
   "cell_type": "code",
   "execution_count": 0,
   "metadata": {
    "application/vnd.databricks.v1+cell": {
     "cellMetadata": {
      "byteLimit": 2048000,
      "rowLimit": 10000
     },
     "inputWidgets": {},
     "nuid": "98c1bc7c-c8d3-4ebe-a53f-ef1172a48f0a",
     "showTitle": false,
     "tableResultSettingsMap": {},
     "title": ""
    }
   },
   "outputs": [],
   "source": [
    "country_code_udf = udf(get_country_code,StringType())\n",
    "df_with_location = df.withColumn(\"country_code\",country_code_udf(col('latitude'),col('longitude')))"
   ]
  },
  {
   "cell_type": "markdown",
   "metadata": {
    "application/vnd.databricks.v1+cell": {
     "cellMetadata": {},
     "inputWidgets": {},
     "nuid": "747b2ab7-6a4a-4aa6-a7d5-d5fa3d436828",
     "showTitle": false,
     "tableResultSettingsMap": {},
     "title": ""
    }
   },
   "source": [
    "#### Add Singificance Class "
   ]
  },
  {
   "cell_type": "code",
   "execution_count": 0,
   "metadata": {
    "application/vnd.databricks.v1+cell": {
     "cellMetadata": {
      "byteLimit": 2048000,
      "rowLimit": 10000
     },
     "inputWidgets": {},
     "nuid": "2f905796-7b9e-47d6-b423-fbe50c5ca137",
     "showTitle": false,
     "tableResultSettingsMap": {},
     "title": ""
    }
   },
   "outputs": [],
   "source": [
    "df_with_location = \\\n",
    "    df_with_location.\\\n",
    "        withColumn('sig_class',\n",
    "                   when(col('sig') < 100,'Low').\\\n",
    "                   when(col('sig') >= 100, 'Medium').\\\n",
    "                   otherwise('High'))\n"
   ]
  },
  {
   "cell_type": "markdown",
   "metadata": {
    "application/vnd.databricks.v1+cell": {
     "cellMetadata": {},
     "inputWidgets": {},
     "nuid": "001eedb4-c765-4640-8f00-635b81fa973e",
     "showTitle": false,
     "tableResultSettingsMap": {},
     "title": ""
    }
   },
   "source": [
    "#### Save as Parquet File"
   ]
  },
  {
   "cell_type": "code",
   "execution_count": 0,
   "metadata": {
    "application/vnd.databricks.v1+cell": {
     "cellMetadata": {
      "byteLimit": 2048000,
      "rowLimit": 10000
     },
     "inputWidgets": {},
     "nuid": "a6799cfc-f7b3-4f9b-be14-e6b2dadf81ee",
     "showTitle": false,
     "tableResultSettingsMap": {},
     "title": ""
    }
   },
   "outputs": [],
   "source": [
    "### Gold Output Path\n",
    "gold_output_path = f\"{gold_adls}earthquake_events_gold/\"\n",
    "df_with_location.write.mode('append').parquet(gold_output_path)"
   ]
  }
 ],
 "metadata": {
  "application/vnd.databricks.v1+notebook": {
   "computePreferences": null,
   "dashboards": [],
   "environmentMetadata": {
    "base_environment": "",
    "environment_version": "2"
   },
   "inputWidgetPreferences": null,
   "language": "python",
   "notebookMetadata": {
    "pythonIndentUnit": 4
   },
   "notebookName": "Gold_Notebook",
   "widgets": {}
  },
  "language_info": {
   "name": "python"
  }
 },
 "nbformat": 4,
 "nbformat_minor": 0
}